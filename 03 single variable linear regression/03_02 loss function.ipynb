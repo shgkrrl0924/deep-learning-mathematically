{
 "cells": [
  {
   "cell_type": "markdown",
   "metadata": {},
   "source": [
    "# Chapter.3 Single-variate Linear Regression without Bias Term\n",
    "\n",
    "## Programming Assignment.3-02 Loss Functions\n",
    "\n",
    "이번 PA 03-02에서는 하나의 data sample에 대해 loss function이 어떻게 형성되는지 살펴보고, 이 data sample을 이용하여 predictor를 학습시켜봅니다.\n",
    "\n",
    "또한 여러개의 data sample들에 대해 각각 loss function이 어떻게 달라지는지 확인하고, 각 data sample들을 이용하여 predictor를 학습시키면 어떤 변화가 생기는지 살펴봅니다.\n",
    "\n",
    "이때 각 data sample들은 PA 03-01과 마찬가지로 $y = 3x$에서부터 만들어집니다.\n",
    "\n",
    "PA 03-02는 다음과 같은 Step들로 이루어집니다.\n",
    "<ul>\n",
    "    <li> Step.1 Loss Function for One Sample </li>\n",
    "    <li> Step.2 Learning with One Sample </li>\n",
    "    <li> Step.3 Cost Functions for Different Data Samples </li>\n",
    "    <li> Step.4 Learning with Different Data Samples </li>\n",
    "    <li> Step.5 Learning with Dataset </li>\n",
    "    <li> Step.6 Random Shuffling </li>\n",
    "</ul>\n",
    "\n"
   ]
  },
  {
   "cell_type": "code",
   "execution_count": 1,
   "metadata": {},
   "outputs": [],
   "source": [
    "import numpy as np\n",
    "import matplotlib.pyplot as plt\n",
    "import matplotlib.cm as cm\n",
    "\n",
    "plt.style.use('seaborn')\n",
    "np.random.seed(0)"
   ]
  },
  {
   "cell_type": "markdown",
   "metadata": {},
   "source": [
    "***\n",
    "## Step.1 Loss Function for One Sample\n",
    "\n",
    "먼저 data sample $(x^{(1)},y^{(1)}) = (1,3)$ 하나에 대한 loss function를 그려봅니다.  \n",
    "이 data sample에 대한 loss는 다음과 같이 구할 수 있습니다.\n",
    "\n",
    "$$\n",
    "\\mathcal{L}^{(1)} = (y^{(1)} - \\hat{y}^{(1)})^{2} = (y^{(1)} - \\theta x^{(1)})^{2}\n",
    "$$\n",
    "\n",
    "***\n",
    "**Programming**\n",
    "\n",
    "임의의 $\\theta$에 대한 loss function을 그리세요.  \n",
    "이때 $\\theta$는 target theta$(\\theta^{*})$는 3이므로 0부터 6까지 100개의 점을 이용하고, 이 $\\theta$에 따른 loss를 그립니다.\n",
    "\n",
    "(Hint.1) np.linspace( ): 임의의 $\\theta$를 설정  \n",
    "(Hint.2) np.power( ): $y - \\hat{y}$의 제곱을 구하기 위한 함수"
   ]
  },
  {
   "cell_type": "code",
   "execution_count": null,
   "metadata": {},
   "outputs": [],
   "source": [
    "x1 = \n",
    "y1 = \n",
    "\n",
    "th_range = \n",
    "loss_funct = \n",
    "\n",
    "fig, ax = plt.subplots(figsize = (8,8))\n",
    "ax.plot(th_range, loss_funct)\n",
    "ax.tick_params(axis = 'both', labelsize = 20)\n",
    "ax.set_xlabel(r'$\\theta$', fontsize = 20)\n",
    "ax.set_ylabel(r'$\\mathcal{L}$', fontsize = 20)"
   ]
  }
 ],
 "metadata": {
  "interpreter": {
   "hash": "cc5f70855ac006f3de45a3cc3b9e7d8d53845e50458809cb162b0174266dec97"
  },
  "kernelspec": {
   "display_name": "Python 3.8.8 64-bit ('base': conda)",
   "language": "python",
   "name": "python3"
  },
  "language_info": {
   "codemirror_mode": {
    "name": "ipython",
    "version": 3
   },
   "file_extension": ".py",
   "mimetype": "text/x-python",
   "name": "python",
   "nbconvert_exporter": "python",
   "pygments_lexer": "ipython3",
   "version": "3.8.8"
  },
  "orig_nbformat": 4
 },
 "nbformat": 4,
 "nbformat_minor": 2
}
